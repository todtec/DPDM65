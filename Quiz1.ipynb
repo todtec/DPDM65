{
  "nbformat": 4,
  "nbformat_minor": 0,
  "metadata": {
    "colab": {
      "name": "Quiz1.ipynb",
      "provenance": [],
      "include_colab_link": true
    },
    "kernelspec": {
      "name": "python3",
      "display_name": "Python 3"
    },
    "language_info": {
      "name": "python"
    }
  },
  "cells": [
    {
      "cell_type": "markdown",
      "metadata": {
        "id": "view-in-github",
        "colab_type": "text"
      },
      "source": [
        "<a href=\"https://colab.research.google.com/github/todtec/DPDM65/blob/main/Quiz1.ipynb\" target=\"_parent\"><img src=\"https://colab.research.google.com/assets/colab-badge.svg\" alt=\"Open In Colab\"/></a>"
      ]
    },
    {
      "cell_type": "markdown",
      "source": [
        "# Quiz1\n",
        "เขียน function แสดงความต่างของเวลาโดย input อยู่ในรูปแบบ 'XX:YY:ZZ - AA:BB:CC'\n",
        "\n",
        "และวนลูปแสดงผลของ input ต่อไปนี้\n",
        "\n",
        "* '09:11:50 - 12:30:15'\n",
        "* '13:41:07 - 20:00:18'\n",
        "* '00:00:00 - 23:59:59'\n",
        "* '18:04:11 - 00:00:00'\n",
        "* '21:30:00 - 03:05:15'\n",
        "\n",
        "ตัวอย่าง \n",
        "input ```'00:00:00-01:00:00'``` \n",
        "\n",
        "output ```ช่วงระยะเวลาระหว่าง 00:00:00 ถึง 01:00:00 มีเวลาทั้งหมด 3,600 วินาที```"
      ],
      "metadata": {
        "id": "AyuFpHU_VgDa"
      }
    },
    {
      "cell_type": "markdown",
      "source": [
        "#Example"
      ],
      "metadata": {
        "id": "ieEdmnR2q_yl"
      }
    },
    {
      "cell_type": "code",
      "execution_count": 7,
      "metadata": {
        "id": "KEI3c836Vd-b"
      },
      "outputs": [],
      "source": [
        "def find_min(list):\n",
        "  min = 10000000\n",
        "  for x in list:\n",
        "    if x < min:\n",
        "      min = x\n",
        "  return min"
      ]
    },
    {
      "cell_type": "code",
      "source": [
        "list_A = [1,5,9,-19,-2,0]\n",
        "XXX = find_min(list_A)\n",
        "print(XXX)"
      ],
      "metadata": {
        "colab": {
          "base_uri": "https://localhost:8080/"
        },
        "id": "wR1zxkTSmE6-",
        "outputId": "49a4b29f-35a9-465d-e583-8a36f639e45d"
      },
      "execution_count": 8,
      "outputs": [
        {
          "output_type": "stream",
          "name": "stdout",
          "text": [
            "-19\n"
          ]
        }
      ]
    },
    {
      "cell_type": "code",
      "source": [
        "time = '09:11:50 - 12:30:15'"
      ],
      "metadata": {
        "id": "uQs2lniMmIiW"
      },
      "execution_count": 9,
      "outputs": []
    },
    {
      "cell_type": "code",
      "source": [
        "time.split(' - ')"
      ],
      "metadata": {
        "colab": {
          "base_uri": "https://localhost:8080/"
        },
        "id": "AsCKvnmIqsrg",
        "outputId": "a1b0c9b6-e7cf-4a98-89c9-0444b0e6d14d"
      },
      "execution_count": 10,
      "outputs": [
        {
          "output_type": "execute_result",
          "data": {
            "text/plain": [
              "['09:11:50', '12:30:15']"
            ]
          },
          "metadata": {},
          "execution_count": 10
        }
      ]
    },
    {
      "cell_type": "code",
      "source": [
        "time.split()"
      ],
      "metadata": {
        "colab": {
          "base_uri": "https://localhost:8080/"
        },
        "id": "Xr7QAHqAq1av",
        "outputId": "b8795a88-9d0a-4679-f6e3-df61a6cbbb34"
      },
      "execution_count": 11,
      "outputs": [
        {
          "output_type": "execute_result",
          "data": {
            "text/plain": [
              "['09:11:50', '-', '12:30:15']"
            ]
          },
          "metadata": {},
          "execution_count": 11
        }
      ]
    },
    {
      "cell_type": "code",
      "source": [
        "time.split(':')"
      ],
      "metadata": {
        "colab": {
          "base_uri": "https://localhost:8080/"
        },
        "id": "H58LPWVarGP5",
        "outputId": "1f91fc88-36af-4dbf-bc8a-12d2455c306e"
      },
      "execution_count": 13,
      "outputs": [
        {
          "output_type": "execute_result",
          "data": {
            "text/plain": [
              "['09', '11', '50 - 12', '30', '15']"
            ]
          },
          "metadata": {},
          "execution_count": 13
        }
      ]
    },
    {
      "cell_type": "code",
      "source": [
        "time = '18:04:11 - 00:00:00'\n",
        "T = time.split(' - ')\n",
        "Tstart = T[0]\n",
        "Tend = T[-1]\n",
        "\n",
        "SplitS = Tstart.split(':')\n",
        "Sstart = 3600*int(SplitS[0]) + 60*int(SplitS[1]) + int(SplitS[2])\n",
        "\n",
        "SplitE = Tend.split(':')\n",
        "Send = 3600*int(SplitE[0]) + 60*int(SplitE[1]) + int(SplitE[2])\n",
        "\n",
        "if Send < Sstart:\n",
        "  print(f'ช่วงระยะเวลาระหว่าง {Tstart} ถึง {Tend} มีเวลาทั้งหมด {(Send+(24*3600))-Sstart:,} วินาที')\n",
        "else:\n",
        "  print(f'ช่วงระยะเวลาระหว่าง {Tstart} ถึง {Tend} มีเวลาทั้งหมด {Send-Sstart:,} วินาที')"
      ],
      "metadata": {
        "colab": {
          "base_uri": "https://localhost:8080/"
        },
        "id": "F2bjpRmlrMre",
        "outputId": "b00db40a-d82e-4136-d855-a1b7a1d176bb"
      },
      "execution_count": 20,
      "outputs": [
        {
          "output_type": "stream",
          "name": "stdout",
          "text": [
            "ช่วงระยะเวลาระหว่าง 18:04:11 ถึง 00:00:00 มีเวลาทั้งหมด 21,349 วินาที\n"
          ]
        }
      ]
    },
    {
      "cell_type": "markdown",
      "source": [
        "#Function"
      ],
      "metadata": {
        "id": "ARx65fDvwV5p"
      }
    },
    {
      "cell_type": "code",
      "source": [
        "def cal_time(time):\n",
        "  T = time.split(' - ')\n",
        "  Tstart = T[0]\n",
        "  Tend = T[-1]\n",
        "\n",
        "  SplitS = Tstart.split(':')\n",
        "  Sstart = 3600*int(SplitS[0]) + 60*int(SplitS[1]) + int(SplitS[2])\n",
        "\n",
        "  SplitE = Tend.split(':')\n",
        "  Send = 3600*int(SplitE[0]) + 60*int(SplitE[1]) + int(SplitE[2])\n",
        "\n",
        "  if Send < Sstart:\n",
        "    return (f'ช่วงระยะเวลาระหว่าง {Tstart} ถึง {Tend} มีเวลาทั้งหมด {(Send+(24*3600))-Sstart:,} วินาที')\n",
        "  else:\n",
        "    return (f'ช่วงระยะเวลาระหว่าง {Tstart} ถึง {Tend} มีเวลาทั้งหมด {Send-Sstart:,} วินาที')"
      ],
      "metadata": {
        "id": "pYj3pfoYupKm"
      },
      "execution_count": 22,
      "outputs": []
    },
    {
      "cell_type": "code",
      "source": [
        "cal_time('18:04:11 - 00:00:00')"
      ],
      "metadata": {
        "colab": {
          "base_uri": "https://localhost:8080/",
          "height": 35
        },
        "id": "CCvgRtziwL3X",
        "outputId": "5675f257-7b9f-4348-f1c4-d7ce8c2e3e72"
      },
      "execution_count": 23,
      "outputs": [
        {
          "output_type": "execute_result",
          "data": {
            "text/plain": [
              "'ช่วงระยะเวลาระหว่าง 18:04:11 ถึง 00:00:00 มีเวลาทั้งหมด 21,349 วินาที'"
            ],
            "application/vnd.google.colaboratory.intrinsic+json": {
              "type": "string"
            }
          },
          "metadata": {},
          "execution_count": 23
        }
      ]
    },
    {
      "cell_type": "code",
      "source": [
        ""
      ],
      "metadata": {
        "id": "ldx82rb3wURS"
      },
      "execution_count": null,
      "outputs": []
    }
  ]
}