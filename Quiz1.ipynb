{
  "nbformat": 4,
  "nbformat_minor": 0,
  "metadata": {
    "colab": {
      "name": "Quiz1.ipynb",
      "provenance": [],
      "include_colab_link": true
    },
    "kernelspec": {
      "name": "python3",
      "display_name": "Python 3"
    },
    "language_info": {
      "name": "python"
    }
  },
  "cells": [
    {
      "cell_type": "markdown",
      "metadata": {
        "id": "view-in-github",
        "colab_type": "text"
      },
      "source": [
        "<a href=\"https://colab.research.google.com/github/todtec/DPDM65/blob/main/Quiz1.ipynb\" target=\"_parent\"><img src=\"https://colab.research.google.com/assets/colab-badge.svg\" alt=\"Open In Colab\"/></a>"
      ]
    },
    {
      "cell_type": "markdown",
      "source": [
        "# Quiz1\n",
        "เขียน function แสดงความต่างของเวลาโดย input อยู่ในรูปแบบ 'XX:YY:ZZ - AA:BB:CC'\n",
        "\n",
        "และวนลูปแสดงผลของ input ต่อไปนี้\n",
        "\n",
        "* '09:11:50 - 12:30:15'\n",
        "* '13:41:07 - 20:00:18'\n",
        "* '00:00:00 - 23:59:59'\n",
        "* '18:04:11 - 00:00:00'\n",
        "* '21:30:00 - 03:05:15'\n",
        "\n",
        "ตัวอย่าง \n",
        "input ```'00:00:00-01:00:00'``` \n",
        "\n",
        "output ```ช่วงระยะเวลาระหว่าง 00:00:00 ถึง 01:00:00 มีเวลาทั้งหมด 3,600 วินาที```"
      ],
      "metadata": {
        "id": "AyuFpHU_VgDa"
      }
    },
    {
      "cell_type": "markdown",
      "source": [
        "#Example"
      ],
      "metadata": {
        "id": "ieEdmnR2q_yl"
      }
    },
    {
      "cell_type": "code",
      "execution_count": 1,
      "metadata": {
        "id": "KEI3c836Vd-b"
      },
      "outputs": [],
      "source": [
        "def find_min(list):\n",
        "  min = 10000000\n",
        "  for x in list:\n",
        "    if x < min:\n",
        "      min = x\n",
        "  return min"
      ]
    },
    {
      "cell_type": "code",
      "source": [
        "list_A = [1,5,9,-19,-2,0]\n",
        "XXX = find_min(list_A)\n",
        "print(XXX)"
      ],
      "metadata": {
        "colab": {
          "base_uri": "https://localhost:8080/"
        },
        "id": "wR1zxkTSmE6-",
        "outputId": "902e1a95-4f68-42a2-f01d-0d940c2576ef"
      },
      "execution_count": 2,
      "outputs": [
        {
          "output_type": "stream",
          "name": "stdout",
          "text": [
            "-19\n"
          ]
        }
      ]
    },
    {
      "cell_type": "code",
      "source": [
        "time = '09:11:50 - 12:30:15'"
      ],
      "metadata": {
        "id": "uQs2lniMmIiW"
      },
      "execution_count": 3,
      "outputs": []
    },
    {
      "cell_type": "code",
      "source": [
        "time.split(' - ')"
      ],
      "metadata": {
        "colab": {
          "base_uri": "https://localhost:8080/"
        },
        "id": "AsCKvnmIqsrg",
        "outputId": "2db2a0e5-8a7a-49df-f727-20d2c8adff21"
      },
      "execution_count": 4,
      "outputs": [
        {
          "output_type": "execute_result",
          "data": {
            "text/plain": [
              "['09:11:50', '12:30:15']"
            ]
          },
          "metadata": {},
          "execution_count": 4
        }
      ]
    },
    {
      "cell_type": "code",
      "source": [
        "time.split()"
      ],
      "metadata": {
        "colab": {
          "base_uri": "https://localhost:8080/"
        },
        "id": "Xr7QAHqAq1av",
        "outputId": "e032b53c-3bcf-4c93-988b-cbb5bffb409d"
      },
      "execution_count": 5,
      "outputs": [
        {
          "output_type": "execute_result",
          "data": {
            "text/plain": [
              "['09:11:50', '-', '12:30:15']"
            ]
          },
          "metadata": {},
          "execution_count": 5
        }
      ]
    },
    {
      "cell_type": "code",
      "source": [
        "time.split(':')"
      ],
      "metadata": {
        "colab": {
          "base_uri": "https://localhost:8080/"
        },
        "id": "H58LPWVarGP5",
        "outputId": "e2f90997-29ac-427f-d2f5-09be491ec75d"
      },
      "execution_count": 6,
      "outputs": [
        {
          "output_type": "execute_result",
          "data": {
            "text/plain": [
              "['09', '11', '50 - 12', '30', '15']"
            ]
          },
          "metadata": {},
          "execution_count": 6
        }
      ]
    },
    {
      "cell_type": "code",
      "source": [
        "time = '18:04:11 - 00:00:00'\n",
        "T = time.split(' - ')\n",
        "Tstart = T[0]\n",
        "Tend = T[-1]\n",
        "\n",
        "SplitS = Tstart.split(':')\n",
        "Sstart = 3600*int(SplitS[0]) + 60*int(SplitS[1]) + int(SplitS[2])\n",
        "\n",
        "SplitE = Tend.split(':')\n",
        "Send = 3600*int(SplitE[0]) + 60*int(SplitE[1]) + int(SplitE[2])\n",
        "\n",
        "if Send < Sstart:\n",
        "  print(f'ช่วงระยะเวลาระหว่าง {Tstart} ถึง {Tend} มีเวลาทั้งหมด {(Send+(24*3600))-Sstart:,} วินาที')\n",
        "else:\n",
        "  print(f'ช่วงระยะเวลาระหว่าง {Tstart} ถึง {Tend} มีเวลาทั้งหมด {Send-Sstart:,} วินาที')"
      ],
      "metadata": {
        "colab": {
          "base_uri": "https://localhost:8080/"
        },
        "id": "F2bjpRmlrMre",
        "outputId": "2188ff5e-8efa-457a-8e7c-8852568cab55"
      },
      "execution_count": 7,
      "outputs": [
        {
          "output_type": "stream",
          "name": "stdout",
          "text": [
            "ช่วงระยะเวลาระหว่าง 18:04:11 ถึง 00:00:00 มีเวลาทั้งหมด 21,349 วินาที\n"
          ]
        }
      ]
    },
    {
      "cell_type": "markdown",
      "source": [
        "#Function"
      ],
      "metadata": {
        "id": "ARx65fDvwV5p"
      }
    },
    {
      "cell_type": "code",
      "source": [
        "def cal_time(time):\n",
        "  T = time.split(' - ')\n",
        "  Tstart = T[0]\n",
        "  Tend = T[-1]\n",
        "\n",
        "  SplitS = Tstart.split(':')\n",
        "  Sstart = 3600*int(SplitS[0]) + 60*int(SplitS[1]) + int(SplitS[2])\n",
        "\n",
        "  SplitE = Tend.split(':')\n",
        "  Send = 3600*int(SplitE[0]) + 60*int(SplitE[1]) + int(SplitE[2])\n",
        "\n",
        "  if Send < Sstart:\n",
        "    return (f'ช่วงระยะเวลาระหว่าง {Tstart} ถึง {Tend} มีเวลาทั้งหมด {(Send+(24*3600))-Sstart:,} วินาที')\n",
        "  else:\n",
        "    return (f'ช่วงระยะเวลาระหว่าง {Tstart} ถึง {Tend} มีเวลาทั้งหมด {Send-Sstart:,} วินาที')"
      ],
      "metadata": {
        "id": "pYj3pfoYupKm"
      },
      "execution_count": 8,
      "outputs": []
    },
    {
      "cell_type": "code",
      "source": [
        "cal_time('18:04:11 - 00:00:00')"
      ],
      "metadata": {
        "colab": {
          "base_uri": "https://localhost:8080/",
          "height": 36
        },
        "id": "CCvgRtziwL3X",
        "outputId": "7053b4c8-0dca-4394-da77-b7ff4cc3b10d"
      },
      "execution_count": 9,
      "outputs": [
        {
          "output_type": "execute_result",
          "data": {
            "text/plain": [
              "'ช่วงระยะเวลาระหว่าง 18:04:11 ถึง 00:00:00 มีเวลาทั้งหมด 21,349 วินาที'"
            ],
            "application/vnd.google.colaboratory.intrinsic+json": {
              "type": "string"
            }
          },
          "metadata": {},
          "execution_count": 9
        }
      ]
    },
    {
      "cell_type": "code",
      "source": [
        "list_time = ['09:11:50 - 12:30:15','13:41:07 - 20:00:18','00:00:00 - 23:59:59','18:04:11 - 00:00:00','21:30:00 - 03:05:15']\n",
        "\n",
        "for i in list_time:\n",
        "  print(cal_time(i))"
      ],
      "metadata": {
        "id": "ldx82rb3wURS",
        "outputId": "62c8125a-f7bd-493a-c523-1b6b2ccfeeec",
        "colab": {
          "base_uri": "https://localhost:8080/"
        }
      },
      "execution_count": 13,
      "outputs": [
        {
          "output_type": "stream",
          "name": "stdout",
          "text": [
            "ช่วงระยะเวลาระหว่าง 09:11:50 ถึง 12:30:15 มีเวลาทั้งหมด 11,905 วินาที\n",
            "ช่วงระยะเวลาระหว่าง 13:41:07 ถึง 20:00:18 มีเวลาทั้งหมด 22,751 วินาที\n",
            "ช่วงระยะเวลาระหว่าง 00:00:00 ถึง 23:59:59 มีเวลาทั้งหมด 86,399 วินาที\n",
            "ช่วงระยะเวลาระหว่าง 18:04:11 ถึง 00:00:00 มีเวลาทั้งหมด 21,349 วินาที\n",
            "ช่วงระยะเวลาระหว่าง 21:30:00 ถึง 03:05:15 มีเวลาทั้งหมด 20,115 วินาที\n"
          ]
        }
      ]
    },
    {
      "cell_type": "code",
      "source": [
        ""
      ],
      "metadata": {
        "id": "EfhE5hcIZ-Ja"
      },
      "execution_count": null,
      "outputs": []
    }
  ]
}