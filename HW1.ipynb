{
  "nbformat": 4,
  "nbformat_minor": 0,
  "metadata": {
    "colab": {
      "name": "HW1",
      "provenance": [],
      "authorship_tag": "ABX9TyO+RKTs7ED9hyRS2mIM6zCO",
      "include_colab_link": true
    },
    "kernelspec": {
      "name": "python3",
      "display_name": "Python 3"
    },
    "language_info": {
      "name": "python"
    }
  },
  "cells": [
    {
      "cell_type": "markdown",
      "metadata": {
        "id": "view-in-github",
        "colab_type": "text"
      },
      "source": [
        "<a href=\"https://colab.research.google.com/github/todtec/DPDM65/blob/main/HW1.ipynb\" target=\"_parent\"><img src=\"https://colab.research.google.com/assets/colab-badge.svg\" alt=\"Open In Colab\"/></a>"
      ]
    },
    {
      "cell_type": "markdown",
      "source": [
        "#Homework1\n",
        "1. โครงการบ้านที่ขอนแก่นและอุดรอันไหนแพงกว่ากัน\n",
        "2. เปรียบเทียบพื้นที่เฉลี่ยของโครงการบ้าน ที่ขอนแก่น กับ กทม\n",
        "3. เปรียบเทียบราคาบ้านและคอนโด ในจ.ขอนแก่นและโคราช\n",
        "4. (เก็บไว้ก่อน) จังหวัดที่มีข้อมูลโครงการบ้าน (คอนโด)\n",
        "5. ราคาเฉลี่ยโครงการใน อุดร ขอนแก่น โคราช เทียบกับเชียงใหม่ เชียงราย\n",
        "6. ให้สร้าง boxplot ของราคาบ้านในจังหวัดขอนแก่น เทียบกับ condo\n",
        "7. บ้านในภาค เหนือ ใต้ อีสาน ที่ไหนแพงสุด ถูกสุด (เลือกจังหวัดที่เป็นตัวแทนภาคมา ภาคละ 2 จังหวัด)\n",
        "8. ความหลากหลายของโครงการในขอนแก่น เทียบกับ ชลบุรี"
      ],
      "metadata": {
        "id": "DPDns-0K7LLa"
      }
    },
    {
      "cell_type": "code",
      "execution_count": 1,
      "metadata": {
        "id": "_scwh6qz6_xn"
      },
      "outputs": [],
      "source": [
        "import pandas as pd\n",
        "import numpy as np"
      ]
    },
    {
      "cell_type": "code",
      "source": [
        "from google.colab import drive # Mount GG drive\n",
        "drive.mount('/content/drive')"
      ],
      "metadata": {
        "colab": {
          "base_uri": "https://localhost:8080/"
        },
        "id": "r26VKoVq7HFP",
        "outputId": "819113d7-ea81-461f-b61b-37877ac68d33"
      },
      "execution_count": 3,
      "outputs": [
        {
          "output_type": "stream",
          "name": "stdout",
          "text": [
            "Mounted at /content/drive\n"
          ]
        }
      ]
    },
    {
      "cell_type": "code",
      "source": [
        ""
      ],
      "metadata": {
        "id": "37BMjKOU7KgN"
      },
      "execution_count": null,
      "outputs": []
    }
  ]
}